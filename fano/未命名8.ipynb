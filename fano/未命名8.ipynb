{
 "cells": [
  {
   "cell_type": "code",
   "execution_count": 33,
   "metadata": {},
   "outputs": [],
   "source": [
    "import matplotlib.pyplot as plt\n",
    "from mpl_toolkits.mplot3d import Axes3D\n",
    "from scipy import sin, cos, linspace, pi\n",
    "from scipy.integrate import odeint, solve_bvp, solve_ivp\n",
    "import numpy as np\n",
    "%matplotlib inline"
   ]
  },
  {
   "cell_type": "code",
   "execution_count": 91,
   "metadata": {},
   "outputs": [],
   "source": [
    "def fvdp1(t,y):\n",
    "    dy1 = y[1]      # y[1]=dy/dt，一阶导\n",
    "    dy2 = -(y[0]**3 + 3/1000000000000000**y[0]**2 + 3*y[1]*np.sqrt(1/4*y[0]**4 + 1/1000000000000000*y[0]**3 + 1/2*y[1]**2)) \n",
    "    return [dy1,dy2] \n",
    "def solve_second_order_ode():\n",
    "    t2 = linspace(0,100,100000)\n",
    "    tspan = (0.0, 100.0)\n",
    "    y0 = [1, 1] \n",
    "    y = odeint(fvdp1, y0, t2, tfirst=True)\n",
    "    y_ = solve_ivp(fvdp1, t_span=tspan, y0=y0, t_eval=t2)\n",
    "    \n",
    "    #l1, = plt.plot(t2,y[:,0],label='y(0)')\n",
    "\n",
    "    \n",
    "\n",
    "    l3, = plt.plot(y_.t, y_.y[0,:],'g--',label='y(0)')\n",
    "    plt.show()"
   ]
  },
  {
   "cell_type": "code",
   "execution_count": 92,
   "metadata": {},
   "outputs": [
    {
     "data": {
      "image/png": "[encoded data removed]",
      "text/plain": [
       "<Figure size 432x288 with 1 Axes>"
      ]
     },
     "metadata": {
      "needs_background": "light"
     },
     "output_type": "display_data"
    }
   ],
   "source": [
    "solve_second_order_ode()"
   ]
  },
  {
   "cell_type": "code",
   "execution_count": 13,
   "metadata": {},
   "outputs": [],
   "source": [
    "def diffeq(x, t,k,g):\n",
    "\n",
    "    #define/clear derivative\n",
    "    dxdt = np.zeros(2)\n",
    "\n",
    "    \"\"\" differential equation for damped oscillation\n",
    "        split into first-order equation \n",
    "         x. = v\n",
    "         v. = - k x - 2 gamma v\n",
    "    \"\"\"\n",
    "    dxdt[0] = x[1]\n",
    "    dxdt[1] = -k*x[0] - 2* g*x[1]\n",
    "\n",
    "    return dxdt\n",
    "\n",
    "\"\"\" constants \"\"\"\n",
    "k=0.1\n",
    "g=0.025\n",
    "\n",
    "x    = np.array([2.0,-0.8])         # initial position\n",
    "time = np.linspace(0.0,100.0,100)   # evaluation times\n",
    "\n",
    "\"\"\" calling the solver \"\"\"\n",
    "solution = odeint(diffeq, x, time, args=(k,g))"
   ]
  },
  {
   "cell_type": "code",
   "execution_count": null,
   "metadata": {},
   "outputs": [],
   "source": []
  }
 ],
 "metadata": {
  "kernelspec": {
   "display_name": "Python 3",
   "language": "python",
   "name": "python3"
  },
  "language_info": {
   "codemirror_mode": {
    "name": "ipython",
    "version": 3
   },
   "file_extension": ".py",
   "mimetype": "text/x-python",
   "name": "python",
   "nbconvert_exporter": "python",
   "pygments_lexer": "ipython3",
   "version": "3.7.4"
  }
 },
 "nbformat": 4,
 "nbformat_minor": 2
}
