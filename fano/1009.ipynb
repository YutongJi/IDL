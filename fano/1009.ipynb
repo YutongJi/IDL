{
 "cells": [
  {
   "cell_type": "code",
   "execution_count": 2,
   "metadata": {},
   "outputs": [
    {
     "data": {
      "text/plain": [
       "Text(0.5, 1.0, 'Power spectrum (background)')"
      ]
     },
     "execution_count": 2,
     "metadata": {},
     "output_type": "execute_result"
    },
    {
     "data": {
      "image/png": "[encoded data removed]",
      "text/plain": [
       "<Figure size 432x288 with 1 Axes>"
      ]
     },
     "metadata": {
      "needs_background": "light"
     },
     "output_type": "display_data"
    }
   ],
   "source": [
    "from scipy.optimize import curve_fit\n",
    "import numpy as np\n",
    "from scipy import signal\n",
    "import matplotlib.pyplot as plt\n",
    "import math\n",
    "omega = 1.0\n",
    "t_init = 3\n",
    "t_end  = 70\n",
    "n = 1000### Compute 1000 grid points\n",
    "dt     = math.pi *2*omega/n\n",
    "x_init = 0\n",
    "z_init = 1.0\n",
    "ts    = np.arange(t_init, t_end, dt)\n",
    "N = ts.size\n",
    "y_init = 0\n",
    "fs = 10e2\n",
    "c_theta = 0.1\n",
    "c_mu    = 1.5\n",
    "c_sigma = 0.006\n",
    "fs = 10e3\n",
    "\n",
    "def mu(y, t): \n",
    "    \"\"\"Implement the Ornstein–Uhlenbeck mu.\"\"\" ## = \\theta (\\mu-Y_t)\n",
    "    return c_theta * (c_mu - y)\n",
    "\n",
    "def sigma(y, t): \n",
    "    \"\"\"Implement the Ornstein–Uhlenbeck sigma.\"\"\" ## = \\sigma\n",
    "    return c_sigma\n",
    "    \n",
    "def dW(delta_t): \n",
    "    \"\"\"Sample a random number at each call.\"\"\"\n",
    "    return np.random.normal(loc = 0.0, scale = np.sqrt(delta_t))\n",
    "\n",
    "ts    = np.arange(t_init, t_end, dt)\n",
    "ys    = np.zeros(N)\n",
    "\n",
    "ys[0] = y_init\n",
    "\n",
    "for i in range(1, ts.size):\n",
    "    t = (i-1) * dt\n",
    "    y = ys[i-1]\n",
    "    ys[i] = y + mu(y, t) * dt + sigma(y, t) * dW(dt)\n",
    "\n",
    "freqs = np.fft.fftfreq(ts.size, 1/fs)\n",
    "idx = np.argsort(freqs)\n",
    "ps = np.abs(np.fft.fft(ys))\n",
    "plt.figure()\n",
    "plt.loglog(freqs[idx], ps[idx])\n",
    "plt.title('Power spectrum (background)')"
   ]
  },
  {
   "cell_type": "code",
   "execution_count": 4,
   "metadata": {},
   "outputs": [
    {
     "ename": "TypeError",
     "evalue": "mu() takes 3 positional arguments but 6 were given",
     "output_type": "error",
     "traceback": [
      "\u001b[0;31m---------------------------------------------------------------------------\u001b[0m",
      "\u001b[0;31mTypeError\u001b[0m                                 Traceback (most recent call last)",
      "\u001b[0;32m<ipython-input-4-5cc02d6cd576>\u001b[0m in \u001b[0;36m<module>\u001b[0;34m\u001b[0m\n\u001b[1;32m     31\u001b[0m     \u001b[0mx2\u001b[0m \u001b[0;34m=\u001b[0m \u001b[0mxs2\u001b[0m\u001b[0;34m[\u001b[0m\u001b[0mi\u001b[0m\u001b[0;34m-\u001b[0m\u001b[0;36m1\u001b[0m\u001b[0;34m]\u001b[0m\u001b[0;34m\u001b[0m\u001b[0;34m\u001b[0m\u001b[0m\n\u001b[1;32m     32\u001b[0m     \u001b[0mz2\u001b[0m \u001b[0;34m=\u001b[0m \u001b[0mzs2\u001b[0m\u001b[0;34m[\u001b[0m\u001b[0mi\u001b[0m\u001b[0;34m-\u001b[0m\u001b[0;36m1\u001b[0m\u001b[0;34m]\u001b[0m\u001b[0;34m\u001b[0m\u001b[0;34m\u001b[0m\u001b[0m\n\u001b[0;32m---> 33\u001b[0;31m     \u001b[0mzs2\u001b[0m\u001b[0;34m[\u001b[0m\u001b[0mi\u001b[0m\u001b[0;34m]\u001b[0m \u001b[0;34m=\u001b[0m \u001b[0mz2\u001b[0m \u001b[0;34m+\u001b[0m \u001b[0mmu\u001b[0m\u001b[0;34m(\u001b[0m\u001b[0mx2\u001b[0m\u001b[0;34m,\u001b[0m \u001b[0mz2\u001b[0m\u001b[0;34m,\u001b[0m \u001b[0mt\u001b[0m\u001b[0;34m,\u001b[0m \u001b[0mgamma2\u001b[0m\u001b[0;34m,\u001b[0m \u001b[0momega2\u001b[0m\u001b[0;34m,\u001b[0m\u001b[0mxs\u001b[0m\u001b[0;34m[\u001b[0m\u001b[0mi\u001b[0m\u001b[0;34m-\u001b[0m\u001b[0;36m1\u001b[0m\u001b[0;34m]\u001b[0m\u001b[0;34m)\u001b[0m \u001b[0;34m*\u001b[0m \u001b[0mdt\u001b[0m \u001b[0;34m+\u001b[0m \u001b[0mCos\u001b[0m\u001b[0;34m(\u001b[0m\u001b[0mw\u001b[0m\u001b[0;34m,\u001b[0m\u001b[0mt\u001b[0m\u001b[0;34m)\u001b[0m\u001b[0;34m*\u001b[0m\u001b[0mdt\u001b[0m\u001b[0;34m\u001b[0m\u001b[0;34m\u001b[0m\u001b[0m\n\u001b[0m\u001b[1;32m     34\u001b[0m     \u001b[0mxs2\u001b[0m\u001b[0;34m[\u001b[0m\u001b[0mi\u001b[0m\u001b[0;34m]\u001b[0m \u001b[0;34m=\u001b[0m \u001b[0mx2\u001b[0m \u001b[0;34m+\u001b[0m \u001b[0mz2\u001b[0m\u001b[0;34m*\u001b[0m\u001b[0mdt\u001b[0m\u001b[0;34m\u001b[0m\u001b[0;34m\u001b[0m\u001b[0m\n\u001b[1;32m     35\u001b[0m \u001b[0mplt\u001b[0m\u001b[0;34m.\u001b[0m\u001b[0mplot\u001b[0m\u001b[0;34m(\u001b[0m\u001b[0mts\u001b[0m\u001b[0;34m,\u001b[0m \u001b[0mxs\u001b[0m\u001b[0;34m)\u001b[0m\u001b[0;34m\u001b[0m\u001b[0;34m\u001b[0m\u001b[0m\n",
      "\u001b[0;31mTypeError\u001b[0m: mu() takes 3 positional arguments but 6 were given"
     ]
    }
   ],
   "source": [
    "w = 0.8\n",
    "v = 0\n",
    "omega = 1.0\n",
    "gamma = 0.025\n",
    "omega2 = 1.21\n",
    "gamma2 = 0.0\n",
    "A = 1.0\n",
    "\n",
    "def mu(x, z, t):\n",
    "    return -(gamma*z + omega**2*x)\n",
    "x_init = 0\n",
    "z_init = 1.0\n",
    "x2_init = 0\n",
    "z2_init = 1.0\n",
    "ts    = np.arange(t_init, t_end, dt)\n",
    "xs    = np.zeros(N)\n",
    "zs    = np.zeros(N)\n",
    "xs[0] = x_init\n",
    "zs[0] = z_init\n",
    "xs2   = np.zeros(N)\n",
    "zs2    = np.zeros(N)\n",
    "xs2[0] = x2_init\n",
    "zs2[0] = z2_init\n",
    "\n",
    "for i in range(1, ts.size):\n",
    "    t = (i-1) * dt\n",
    "    x = xs[i-1]\n",
    "    z = zs[i-1]\n",
    "    zs[i] = z + mu(x, z, t) * dt - ys[i]\n",
    "    xs[i] = x + z*dt\n",
    "    x2 = xs2[i-1]\n",
    "    z2 = zs2[i-1]\n",
    "    zs2[i] = z2 + mu(x2, z2, t, gamma2, omega2,xs[i-1]) * dt + Cos(w,t)*dt\n",
    "    xs2[i] = x2 + z2*dt     \n",
    "plt.plot(ts, xs)\n",
    "    \n",
    "    #popt, pcov = curve_fit(fitfun, ts, xs)\n",
    "    #plt.polt(ts, fitfun(ts, *popt))\n",
    "#plt.show()    \n",
    "\n",
    "ps = np.abs(np.fft.fft(xs))\n",
    "plt.figure()\n",
    "plt.loglog(freqs[idx], ps[idx])\n",
    "#plt.title('Power spectrum (with excitation)')"
   ]
  },
  {
   "cell_type": "code",
   "execution_count": 36,
   "metadata": {},
   "outputs": [
    {
     "data": {
      "text/plain": [
       "[<matplotlib.lines.Line2D at 0x1c1c386358>]"
      ]
     },
     "execution_count": 36,
     "metadata": {},
     "output_type": "execute_result"
    },
    {
     "data": {
      "image/png": "[encoded data removed]",
      "text/plain": [
       "<Figure size 432x288 with 1 Axes>"
      ]
     },
     "metadata": {
      "needs_background": "light"
     },
     "output_type": "display_data"
    }
   ],
   "source": [
    "omega = 1.0\n",
    "gamma = 0.06\n",
    "A = 1.0\n",
    "\n",
    "def mu(x, z, t):\n",
    "    return -(gamma*z + omega**2*x)\n",
    "\n",
    "ts    = np.arange(t_init, t_end, dt)\n",
    "xs    = np.zeros(N)\n",
    "zs    = np.zeros(N)\n",
    "\n",
    "xs[0] = x_init\n",
    "zs[0] = z_init\n",
    "\n",
    "\n",
    "for i in range(1, ts.size):\n",
    "    t = (i-1) * dt\n",
    "    x = xs[i-1]\n",
    "    z = zs[i-1]\n",
    "    zs[i] = z + mu(x, z, t) * dt - ys[i] + np.cos(t)+np.cos(2*t)+np.cos(3*t)\n",
    "    xs[i] = x + z*dt\n",
    "#plt.plot(ts, xs)\n",
    "    \n",
    "    #popt, pcov = curve_fit(fitfun, ts, xs)\n",
    "    #plt.polt(ts, fitfun(ts, *popt))\n",
    "#plt.show()    \n",
    "\n",
    "ps = np.abs(np.fft.fft(xs))\n",
    "plt.figure()\n",
    "plt.loglog(freqs[idx], ps[idx])\n",
    "#plt.title('Power spectrum (with excitation)')"
   ]
  },
  {
   "cell_type": "code",
   "execution_count": null,
   "metadata": {},
   "outputs": [],
   "source": []
  }
 ],
 "metadata": {
  "kernelspec": {
   "display_name": "Python 3",
   "language": "python",
   "name": "python3"
  },
  "language_info": {
   "codemirror_mode": {
    "name": "ipython",
    "version": 3
   },
   "file_extension": ".py",
   "mimetype": "text/x-python",
   "name": "python",
   "nbconvert_exporter": "python",
   "pygments_lexer": "ipython3",
   "version": "3.7.3"
  }
 },
 "nbformat": 4,
 "nbformat_minor": 2
}
